{
 "cells": [
  {
   "cell_type": "code",
   "execution_count": 3,
   "metadata": {},
   "outputs": [],
   "source": [
    "import agent\n",
    "import environment\n",
    "\n",
    "def play_round(player1: agent.Player, player2: agent.Player, learn: bool = False) -> [int]:\n",
    "    board = environment.Board()\n",
    "    rewards = {player1.role: 0, player2.role: 0}\n",
    "    \n",
    "    while board.check_winner() == environment.GameStatus.ONGOING:\n",
    "        current_player_agent = player1 if board.current_player() == 1 else player2\n",
    "        current_state = board.state\n",
    "\n",
    "        chosen_move = current_player_agent.make_move(current_state, board.available_moves(), current_player_agent.exploration_rate)\n",
    "        game_status = board.make_move(chosen_move)\n",
    "        \n",
    "        if game_status != environment.GameStatus.ONGOING:\n",
    "            rewards[player1] = board.reward(player1.role)\n",
    "            rewards[player2] = board.reward(player2.role)\n",
    "            \n",
    "            if learn:\n",
    "                player1.train(current_state, rewards[player1])\n",
    "                player2.train(current_state, rewards[player2])\n",
    "                \n",
    "            break\n",
    "    \n",
    "    return board.state, board.winner"
   ]
  },
  {
   "cell_type": "code",
   "execution_count": 4,
   "metadata": {},
   "outputs": [
    {
     "name": "stdout",
     "output_type": "stream",
     "text": [
      "Initial Episode 1, Board: [0, -1, 1, 1, 0, 1, -1, -1, 1], Winner: 1\n",
      "Initial Episode 2, Board: [-1, -1, -1, 1, 1, 0, 1, 1, -1], Winner: -1\n",
      "Initial Episode 3, Board: [1, 0, -1, 1, 1, 0, 1, -1, -1], Winner: 1\n",
      "Initial Episode 4, Board: [1, -1, 0, -1, 1, 1, -1, 0, 1], Winner: 1\n",
      "Initial Episode 5, Board: [-1, 1, 1, 0, -1, -1, 1, 1, -1], Winner: -1\n",
      "Episode 10000, Board: [-1, 0, 1, 0, 1, 0, 1, 0, -1], Winner: 1\n",
      "Player 1 Wins: 9215, Player 2 Wins: 708, Ties: 77\n",
      "Episode 20000, Board: [0, 1, -1, 0, 1, -1, 0, 1, 0], Winner: 1\n",
      "Player 1 Wins: 15217, Player 2 Wins: 4696, Ties: 87\n",
      "Episode 30000, Board: [0, 1, 0, 0, 1, 0, -1, 1, -1], Winner: 1\n",
      "Player 1 Wins: 25093, Player 2 Wins: 4786, Ties: 121\n",
      "Episode 40000, Board: [1, 1, 1, 0, 1, -1, -1, 0, -1], Winner: 1\n",
      "Player 1 Wins: 31562, Player 2 Wins: 4877, Ties: 3561\n",
      "Episode 50000, Board: [1, -1, 1, 1, 1, -1, -1, 1, -1], Winner: 0\n",
      "Player 1 Wins: 36593, Player 2 Wins: 9066, Ties: 4341\n",
      "Episode 60000, Board: [1, -1, 1, 1, 1, -1, -1, 1, -1], Winner: 0\n",
      "Player 1 Wins: 41506, Player 2 Wins: 9160, Ties: 9334\n",
      "Episode 70000, Board: [1, -1, 1, 1, 1, -1, -1, 1, -1], Winner: 0\n",
      "Player 1 Wins: 41795, Player 2 Wins: 9171, Ties: 19034\n",
      "Episode 80000, Board: [-1, -1, 1, 1, 1, -1, -1, 1, 1], Winner: 0\n",
      "Player 1 Wins: 45197, Player 2 Wins: 9215, Ties: 25588\n",
      "Episode 90000, Board: [1, -1, 1, 1, 1, -1, -1, 1, -1], Winner: 0\n",
      "Player 1 Wins: 50007, Player 2 Wins: 9276, Ties: 30717\n",
      "Episode 100000, Board: [1, -1, 1, -1, 1, 1, -1, 1, -1], Winner: 0\n",
      "Player 1 Wins: 50215, Player 2 Wins: 9308, Ties: 40477\n"
     ]
    }
   ],
   "source": [
    "player1 = agent.Player(role=1)\n",
    "player2 = agent.Player(role=-1)\n",
    "\n",
    "wins = {1: 0, -1: 0, 0: 0}\n",
    "\n",
    "for episode in range(10000):\n",
    "    board, winner = play_round(player1, player2, learn=True)\n",
    "    wins[winner] += 1\n",
    "    \n",
    "    if episode < 5:\n",
    "        print(f\"Initial Episode {episode+1}, Board: {board}, Winner: {winner}\")\n",
    "    elif (episode + 1) % 10000 == 0:\n",
    "        print(f\"Episode {episode+1}, Board: {board}, Winner: {winner}\")\n",
    "        print(f\"Player 1 Wins: {wins[1]}, Player 2 Wins: {wins[-1]}, Ties: {wins[0]}\")"
   ]
  }
 ],
 "metadata": {
  "kernelspec": {
   "display_name": "base",
   "language": "python",
   "name": "python3"
  },
  "language_info": {
   "codemirror_mode": {
    "name": "ipython",
    "version": 3
   },
   "file_extension": ".py",
   "mimetype": "text/x-python",
   "name": "python",
   "nbconvert_exporter": "python",
   "pygments_lexer": "ipython3",
   "version": "3.9.17"
  },
  "orig_nbformat": 4
 },
 "nbformat": 4,
 "nbformat_minor": 2
}
